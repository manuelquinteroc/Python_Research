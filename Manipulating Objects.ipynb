{
 "cells": [
  {
   "cell_type": "code",
   "execution_count": 2,
   "id": "62b08eb6-28bf-46cf-9298-1bbd0e37bb20",
   "metadata": {},
   "outputs": [],
   "source": [
    "# Dynamic Typing\n",
    "# Mutable objects in Python can be identical in content"
   ]
  },
  {
   "cell_type": "code",
   "execution_count": 3,
   "id": "3a884c37-dfcf-4ad0-9145-abc09abf9d89",
   "metadata": {},
   "outputs": [],
   "source": [
    "L = [1,2,3]"
   ]
  },
  {
   "cell_type": "code",
   "execution_count": 4,
   "id": "6986dcad-8d76-48c4-9b8b-59f412520ea8",
   "metadata": {},
   "outputs": [],
   "source": [
    "M = [1,2,3]"
   ]
  },
  {
   "cell_type": "code",
   "execution_count": 6,
   "id": "b94a69c8-c937-4bb5-8663-657079f175d1",
   "metadata": {},
   "outputs": [
    {
     "data": {
      "text/plain": [
       "True"
      ]
     },
     "execution_count": 6,
     "metadata": {},
     "output_type": "execute_result"
    }
   ],
   "source": [
    "L == M # Comparing two list element-wise"
   ]
  },
  {
   "cell_type": "code",
   "execution_count": 7,
   "id": "1241b11d-816f-4d72-b7bb-4753b37aa19f",
   "metadata": {},
   "outputs": [
    {
     "data": {
      "text/plain": [
       "False"
      ]
     },
     "execution_count": 7,
     "metadata": {},
     "output_type": "execute_result"
    }
   ],
   "source": [
    "L is M # Is not the same object."
   ]
  },
  {
   "cell_type": "code",
   "execution_count": 8,
   "id": "ff45bd68-64df-4584-99c7-e06baf16bbec",
   "metadata": {},
   "outputs": [
    {
     "data": {
      "text/plain": [
       "2636311487424"
      ]
     },
     "execution_count": 8,
     "metadata": {},
     "output_type": "execute_result"
    }
   ],
   "source": [
    "id(L)"
   ]
  },
  {
   "cell_type": "code",
   "execution_count": 9,
   "id": "480c140d-bc21-4f27-bf05-e55435892963",
   "metadata": {},
   "outputs": [
    {
     "data": {
      "text/plain": [
       "2636311488128"
      ]
     },
     "execution_count": 9,
     "metadata": {},
     "output_type": "execute_result"
    }
   ],
   "source": [
    "id(M)"
   ]
  },
  {
   "cell_type": "code",
   "execution_count": 10,
   "id": "ec2c4a0d-c710-44bf-80e2-280e0474d9dd",
   "metadata": {},
   "outputs": [],
   "source": [
    "# Note the above lists are identical in content, yet they are different objects"
   ]
  },
  {
   "cell_type": "code",
   "execution_count": 11,
   "id": "c190aedf-88db-49ac-b7ff-dbb0c1bb78a9",
   "metadata": {},
   "outputs": [],
   "source": [
    "L = [1,2,3]"
   ]
  },
  {
   "cell_type": "code",
   "execution_count": 13,
   "id": "c4d82a73-8aed-4082-a8c4-70000b19348a",
   "metadata": {},
   "outputs": [],
   "source": [
    "M = L # M is another name for the list L, same object"
   ]
  },
  {
   "cell_type": "code",
   "execution_count": 14,
   "id": "a4e0b43b-75ae-4cae-a7b3-e4e0ac09e001",
   "metadata": {},
   "outputs": [],
   "source": [
    "M = list(L) #Python creates a new obejct, now they are different objects"
   ]
  },
  {
   "cell_type": "code",
   "execution_count": 15,
   "id": "efa2846b-68f1-42bc-a56d-4baf7a2a337b",
   "metadata": {},
   "outputs": [],
   "source": [
    "M = L[:] # creates a new object"
   ]
  },
  {
   "cell_type": "code",
   "execution_count": 16,
   "id": "572ad747-10d9-43f6-bb46-eea80bf84f28",
   "metadata": {},
   "outputs": [],
   "source": [
    "# Dynamic Typing: Question 3 \n",
    "L1 = [2,3,4]\n",
    "L2 = L1\n",
    "L2[0] = 24"
   ]
  },
  {
   "cell_type": "code",
   "execution_count": 17,
   "id": "8ec2fb38-21fd-48cc-8669-2232e9bf3304",
   "metadata": {},
   "outputs": [
    {
     "data": {
      "text/plain": [
       "[24, 3, 4]"
      ]
     },
     "execution_count": 17,
     "metadata": {},
     "output_type": "execute_result"
    }
   ],
   "source": [
    "# What does L1 equal?\n",
    "L1"
   ]
  },
  {
   "cell_type": "code",
   "execution_count": 18,
   "id": "df8be663-83e3-4966-b356-50a2ff2bf444",
   "metadata": {},
   "outputs": [
    {
     "data": {
      "text/plain": [
       "False"
      ]
     },
     "execution_count": 18,
     "metadata": {},
     "output_type": "execute_result"
    }
   ],
   "source": [
    "# Dynamic Typing: Question 4 \n",
    "L = [2,3,4]\n",
    "M1 = L\n",
    "M2 = L[:]\n",
    "M1 is M2 # False since M2 is a new object from L, M1 is the same object as L"
   ]
  },
  {
   "cell_type": "code",
   "execution_count": 20,
   "id": "b524e1a4-1fb6-4cb8-aa9d-4f777dfbae8f",
   "metadata": {},
   "outputs": [],
   "source": [
    "# Copies ---------------------------------------------------------------------------------------------------------\n",
    "# Create identical copies of objects\n",
    "# Two types of copies:\n",
    "# 1) Shallow Copy - makes references to same object\n",
    "# 2) Depp Copy - duplicates objects in new objects. This copy has its own objects"
   ]
  },
  {
   "cell_type": "code",
   "execution_count": 21,
   "id": "d9ce1246-42b9-4363-8782-1521839d644d",
   "metadata": {},
   "outputs": [
    {
     "data": {
      "text/plain": [
       "False"
      ]
     },
     "execution_count": 21,
     "metadata": {},
     "output_type": "execute_result"
    }
   ],
   "source": [
    "# Copies: Question 1 \n",
    "import copy\n",
    "x = [1,[2]]\n",
    "y = copy.copy(x)\n",
    "z = copy.deepcopy(x)\n",
    "y is z"
   ]
  },
  {
   "cell_type": "code",
   "execution_count": 22,
   "id": "958c1341-5f9a-43fb-a9ce-61c92d5154fa",
   "metadata": {},
   "outputs": [],
   "source": [
    "# Statements -------------------------------------------------------------------------------------------------------\n",
    "# return - returns values from a function\n",
    "# Import - import modules\n",
    "# Pass - to do nothing? "
   ]
  },
  {
   "cell_type": "code",
   "execution_count": 23,
   "id": "92ff1d91-f1de-4e97-878c-585f5196fddb",
   "metadata": {},
   "outputs": [
    {
     "name": "stdout",
     "output_type": "stream",
     "text": [
      "But this get printed no matter what!\n"
     ]
    }
   ],
   "source": [
    "# Compound statements\n",
    "if x > y: # header line\n",
    "    difference = x - y # block of code\n",
    "    print(\"x is greater than y\") # block of code\n",
    "print(\"But this get printed no matter what!\") \n",
    "\n",
    "# IDENTATION IS NOT COSMETIC AS IN OTHER LANGUAGES. IT IS USEFUL TO DETERMINE THE LOGICAL STRUCTURE"
   ]
  },
  {
   "cell_type": "code",
   "execution_count": 24,
   "id": "a611848e-f571-415f-9434-1afa49d0358b",
   "metadata": {},
   "outputs": [],
   "source": [
    "# Example\n",
    "if x > y:\n",
    "    absval = x - y\n",
    "elif y > x:\n",
    "    absval = y - x\n",
    "else: \n",
    "    absval = 0"
   ]
  },
  {
   "cell_type": "code",
   "execution_count": 25,
   "id": "5845e396-f078-481c-81f5-1c79780fe8ae",
   "metadata": {},
   "outputs": [
    {
     "name": "stdout",
     "output_type": "stream",
     "text": [
      "Now True!\n"
     ]
    }
   ],
   "source": [
    "# Statements: Question 1 \n",
    "if False:\n",
    "    print(\"False!\")\n",
    "elif True:\n",
    "    print(\"Now True!\")\n",
    "else:\n",
    "    print(\"Finally True!\")\n",
    "\n",
    "    "
   ]
  },
  {
   "cell_type": "code",
   "execution_count": 28,
   "id": "b5ad7bf1-0f37-4962-a14a-36a1894bdccd",
   "metadata": {},
   "outputs": [
    {
     "name": "stdout",
     "output_type": "stream",
     "text": [
      "even\n"
     ]
    }
   ],
   "source": [
    "# Statements: Question 2 \n",
    "n = 2  \n",
    "if n%2 == 0:\n",
    "    print(\"even\")\n",
    "else:\n",
    "    print(\"odd\")\n",
    "\n",
    "  "
   ]
  },
  {
   "cell_type": "code",
   "execution_count": 29,
   "id": "34b03117-0532-41a8-9d9e-341a00f95166",
   "metadata": {},
   "outputs": [
    {
     "name": "stdout",
     "output_type": "stream",
     "text": [
      "0\n",
      "1\n",
      "2\n",
      "3\n",
      "4\n",
      "5\n",
      "6\n",
      "7\n",
      "8\n",
      "9\n"
     ]
    }
   ],
   "source": [
    "# For and While Loops -------------------------------------------------------------------------------------------------\n",
    "for x in range(10):\n",
    "    print(x)"
   ]
  },
  {
   "cell_type": "code",
   "execution_count": 31,
   "id": "8f4e285c-edcf-4bfe-9633-59d91f38b914",
   "metadata": {},
   "outputs": [],
   "source": [
    "names = [\"Jim\", \"Tom\", \"Nick\", \"Pam\", \"Sam\", \"Tim\"]"
   ]
  },
  {
   "cell_type": "code",
   "execution_count": 32,
   "id": "ae410624-ddb2-4032-bf1f-9f6ba5376d3a",
   "metadata": {},
   "outputs": [
    {
     "name": "stdout",
     "output_type": "stream",
     "text": [
      "Jim\n",
      "Tom\n",
      "Nick\n",
      "Pam\n",
      "Sam\n",
      "Tim\n"
     ]
    }
   ],
   "source": [
    "for name in names:\n",
    "    print(name)"
   ]
  },
  {
   "cell_type": "code",
   "execution_count": 36,
   "id": "e511efde-0e99-44e1-8364-6e704816403a",
   "metadata": {},
   "outputs": [
    {
     "name": "stdout",
     "output_type": "stream",
     "text": [
      "Jim\n",
      "Tom\n",
      "Nick\n",
      "Pam\n",
      "Sam\n",
      "Tim\n"
     ]
    }
   ],
   "source": [
    "# implement indexes as in other languages (NOT VERY PYTHONG)\n",
    "for i in range(len(names)):\n",
    "    print(names[i])"
   ]
  },
  {
   "cell_type": "code",
   "execution_count": 38,
   "id": "10a4e5e9-da1e-4117-9b75-80b2943a3a8c",
   "metadata": {},
   "outputs": [],
   "source": [
    "age={'Tim':29, 'Jim':31, 'Pam':27, 'Sam':35}"
   ]
  },
  {
   "cell_type": "code",
   "execution_count": 42,
   "id": "f416df18-cbfe-47d0-8d9a-ab46e2e4c37c",
   "metadata": {},
   "outputs": [
    {
     "name": "stdout",
     "output_type": "stream",
     "text": [
      "Tim 29\n",
      "Jim 31\n",
      "Pam 27\n",
      "Sam 35\n"
     ]
    }
   ],
   "source": [
    "for name in age.keys():\n",
    "    print(name, age[name])"
   ]
  },
  {
   "cell_type": "code",
   "execution_count": 43,
   "id": "dfc9ea4b-0ad0-4813-a7f3-e6aa84426828",
   "metadata": {},
   "outputs": [
    {
     "name": "stdout",
     "output_type": "stream",
     "text": [
      "Tim 29\n",
      "Jim 31\n",
      "Pam 27\n",
      "Sam 35\n"
     ]
    }
   ],
   "source": [
    "for name in age: # same as before\n",
    "    print(name, age[name])"
   ]
  },
  {
   "cell_type": "code",
   "execution_count": 44,
   "id": "5bd82a7f-120b-474f-a388-560d89c00655",
   "metadata": {},
   "outputs": [
    {
     "name": "stdout",
     "output_type": "stream",
     "text": [
      "Jim 31\n",
      "Pam 27\n",
      "Sam 35\n",
      "Tim 29\n"
     ]
    }
   ],
   "source": [
    "for name in sorted(age.keys()): # alphabetical order\n",
    "    print(name, age[name])"
   ]
  },
  {
   "cell_type": "code",
   "execution_count": 46,
   "id": "4fc7f061-4939-4ffa-b3da-4babac2caccc",
   "metadata": {},
   "outputs": [
    {
     "name": "stdout",
     "output_type": "stream",
     "text": [
      "Tim 29\n",
      "Sam 35\n",
      "Pam 27\n",
      "Jim 31\n"
     ]
    }
   ],
   "source": [
    "for name in sorted(age.keys(), reverse = True):\n",
    "    print(name, age[name])"
   ]
  },
  {
   "cell_type": "code",
   "execution_count": 52,
   "id": "e7459090-032f-492b-b658-681f5c9ccef6",
   "metadata": {},
   "outputs": [
    {
     "name": "stdout",
     "output_type": "stream",
     "text": [
      "Hello, Brown bear!\n",
      "Hello, Polar bear!\n",
      "odd\n"
     ]
    }
   ],
   "source": [
    "# For and While Loops: Question 1 \n",
    "# Consider bears = {\"Grizzly\":\"angry\", \"Brown\":\"friendly\", \"Polar\":\"friendly\"}. Can you replace #blank# so the code will print a greeting only to friendly bears? \n",
    "# Your code should work even if more bears are added to the dictionary.\n",
    "bears = {\"Grizzly\":\"angry\", \"Brown\":\"friendly\", \"Polar\":\"friendly\"}\n",
    "for bear in bears:\n",
    "    if bears[bear] == \"friendly\": #blank#:\n",
    "        print(\"Hello, \"+bear+\" bear!\")\n",
    "else:\n",
    "    print(\"odd\")\n",
    "\n",
    "  "
   ]
  },
  {
   "cell_type": "code",
   "execution_count": 62,
   "id": "700ff359-c968-4a38-99f0-e015833f5220",
   "metadata": {},
   "outputs": [
    {
     "name": "stdout",
     "output_type": "stream",
     "text": [
      "True\n"
     ]
    }
   ],
   "source": [
    "# For and While Loops: Question 2 \n",
    "# Can you fill in the #blank# line so the code will only print True if n is prime?\n",
    "is_prime = True\n",
    "n = 7\n",
    "for i in range(2,n):\n",
    "    if n%i == 0:\n",
    "        is_prime = False\n",
    "        break # terminate the loop\n",
    "print(is_prime)"
   ]
  },
  {
   "cell_type": "code",
   "execution_count": 65,
   "id": "d6afb230-8772-461f-bf37-7c276374be8b",
   "metadata": {},
   "outputs": [
    {
     "name": "stdout",
     "output_type": "stream",
     "text": [
      "7\n"
     ]
    }
   ],
   "source": [
    "# For and While Loops: Question 3 \n",
    "n=100\n",
    "number_of_times = 0\n",
    "while n >= 1:\n",
    "    n //= 2\n",
    "    number_of_times += 1\n",
    "print(number_of_times)\n"
   ]
  },
  {
   "cell_type": "code",
   "execution_count": 77,
   "id": "2ba8b2dc-a10b-427e-a125-10d553dd6800",
   "metadata": {},
   "outputs": [],
   "source": [
    "# List Comprehensions\n",
    "# apply an operation to all elements in a list and create a new list\n",
    "# list comprehensions are very fast!!\n",
    "numbers = range(10)"
   ]
  },
  {
   "cell_type": "code",
   "execution_count": 78,
   "id": "d233880b-07e3-4cc5-ac1b-c0a0232ec504",
   "metadata": {},
   "outputs": [],
   "source": [
    "squares = []"
   ]
  },
  {
   "cell_type": "code",
   "execution_count": 79,
   "id": "5e15009b-2390-4d61-80cc-45d5028b4b51",
   "metadata": {},
   "outputs": [],
   "source": [
    "for number in numbers:\n",
    "    square = number**2\n",
    "    squares.append(square)"
   ]
  },
  {
   "cell_type": "code",
   "execution_count": 80,
   "id": "de48f847-3df7-43af-85bd-188add96f406",
   "metadata": {},
   "outputs": [
    {
     "data": {
      "text/plain": [
       "[0, 1, 4, 9, 16, 25, 36, 49, 64, 81]"
      ]
     },
     "execution_count": 80,
     "metadata": {},
     "output_type": "execute_result"
    }
   ],
   "source": [
    "squares"
   ]
  },
  {
   "cell_type": "code",
   "execution_count": 81,
   "id": "1ff3b467-8baa-4da4-a44f-9a64a71cb840",
   "metadata": {},
   "outputs": [],
   "source": [
    "# same as the loop above \n",
    "squares2 = [number**2 for number in numbers] # list comprehension"
   ]
  },
  {
   "cell_type": "code",
   "execution_count": 82,
   "id": "1b43a197-a564-4d07-aa70-1f35f019321a",
   "metadata": {},
   "outputs": [
    {
     "data": {
      "text/plain": [
       "[0, 1, 4, 9, 16, 25, 36, 49, 64, 81]"
      ]
     },
     "execution_count": 82,
     "metadata": {},
     "output_type": "execute_result"
    }
   ],
   "source": [
    "squares2"
   ]
  },
  {
   "cell_type": "code",
   "execution_count": 84,
   "id": "bb727860-2054-4fc2-baf6-95d499925d60",
   "metadata": {},
   "outputs": [
    {
     "data": {
      "text/plain": [
       "5"
      ]
     },
     "execution_count": 84,
     "metadata": {},
     "output_type": "execute_result"
    }
   ],
   "source": [
    "# List Comprehensions: Question 1 \n",
    "sum([i**2 for i in range(3)])"
   ]
  },
  {
   "cell_type": "code",
   "execution_count": 92,
   "id": "d8ad4450-b97d-4f8b-92f4-0d6c47447b4a",
   "metadata": {},
   "outputs": [
    {
     "data": {
      "text/plain": [
       "25"
      ]
     },
     "execution_count": 92,
     "metadata": {},
     "output_type": "execute_result"
    }
   ],
   "source": [
    "# List Comprehensions: Question 2 \n",
    "# How can you use a list comprehension, including if and for, to sum the odd numbers from 0 through 9? \n",
    "sum(x for x in range(10) if x % 2)"
   ]
  },
  {
   "cell_type": "code",
   "execution_count": null,
   "id": "24ff2f59-8d6b-493d-a0a1-14fcb0b265e1",
   "metadata": {},
   "outputs": [],
   "source": [
    "# Reading and Writing Files ----------------------------------------------------------------------------------------------"
   ]
  },
  {
   "cell_type": "code",
   "execution_count": 113,
   "id": "e9455f4e-7736-4c7d-af60-f9010a6ad7f0",
   "metadata": {},
   "outputs": [],
   "source": [
    "filename = \"input.txt\""
   ]
  },
  {
   "cell_type": "code",
   "execution_count": 114,
   "id": "1075f611-1f20-44cc-b764-75bc26c5b26c",
   "metadata": {},
   "outputs": [
    {
     "name": "stdout",
     "output_type": "stream",
     "text": [
      "Hello\n",
      "\n",
      "World\n"
     ]
    }
   ],
   "source": [
    "for line in open(filename):\n",
    "    print(line)"
   ]
  },
  {
   "cell_type": "code",
   "execution_count": 104,
   "id": "c7bcc5e6-0b8b-4bbf-a57c-2c060246ddf9",
   "metadata": {},
   "outputs": [
    {
     "name": "stdout",
     "output_type": "stream",
     "text": [
      "first line\n",
      "second line\n",
      "third line\n"
     ]
    }
   ],
   "source": [
    "for line in open(filename):\n",
    "    line = line.rstrip()\n",
    "    print(line)"
   ]
  },
  {
   "cell_type": "code",
   "execution_count": 108,
   "id": "594b9e05-b8f4-4f9f-bea7-432da4f86364",
   "metadata": {},
   "outputs": [
    {
     "name": "stdout",
     "output_type": "stream",
     "text": [
      "['first', 'line']\n",
      "['second', 'line']\n",
      "['third', 'line']\n"
     ]
    }
   ],
   "source": [
    "for line in open(filename):\n",
    "    line = line.rstrip().split(\" \")# return a list splitting for every white space\n",
    "    print(line) "
   ]
  },
  {
   "cell_type": "code",
   "execution_count": 109,
   "id": "89329036-f66a-425d-9126-0d0927b32e24",
   "metadata": {},
   "outputs": [],
   "source": [
    "F = open(\"output.txt\", \"w\") # create a file object for writing (w)"
   ]
  },
  {
   "cell_type": "code",
   "execution_count": 110,
   "id": "2ec4406c-7e55-493d-89fc-27bf741db038",
   "metadata": {},
   "outputs": [
    {
     "data": {
      "text/plain": [
       "7"
      ]
     },
     "execution_count": 110,
     "metadata": {},
     "output_type": "execute_result"
    }
   ],
   "source": [
    "F.write(\"Python\\n\") # content of the file"
   ]
  },
  {
   "cell_type": "code",
   "execution_count": 111,
   "id": "cf068416-c96a-47b0-8f7e-d5922121ca08",
   "metadata": {},
   "outputs": [],
   "source": [
    "F.close() # close the file"
   ]
  },
  {
   "cell_type": "code",
   "execution_count": 112,
   "id": "33edf4eb-cc99-4e39-80c8-c57f69d99f48",
   "metadata": {},
   "outputs": [
    {
     "name": "stdout",
     "output_type": "stream",
     "text": [
      "['Hello', 'World']\n"
     ]
    }
   ],
   "source": [
    "# Reading and Writing Files: Question 1 \n",
    "F = open(\"input.txt\", \"w\")\n",
    "F.write(\"Hello\\nWorld\")\n",
    "F.close()\n",
    "lines = []\n",
    "for line in open(\"input.txt\"):\n",
    "    lines.append(line.strip())\n",
    "print(lines)"
   ]
  },
  {
   "cell_type": "code",
   "execution_count": 121,
   "id": "12b8515f-2de5-45ce-9da5-16c6966c1924",
   "metadata": {},
   "outputs": [],
   "source": [
    "# Introduction to Functions -------------------------------------------------------------------------------------------------\n",
    "# Functions are written using the def statement\n",
    "def add(a,b):# define an add function\n",
    "    mysum = a + b\n",
    "    return mysum"
   ]
  },
  {
   "cell_type": "code",
   "execution_count": 122,
   "id": "c0969fff-faa3-4bb1-b1ed-43e3f2060768",
   "metadata": {},
   "outputs": [
    {
     "data": {
      "text/plain": [
       "27"
      ]
     },
     "execution_count": 122,
     "metadata": {},
     "output_type": "execute_result"
    }
   ],
   "source": [
    "add(12,15)"
   ]
  },
  {
   "cell_type": "code",
   "execution_count": 123,
   "id": "6720f40e-72bf-4b93-b796-c27d0d5c0945",
   "metadata": {},
   "outputs": [],
   "source": [
    "# global variables\n",
    "def add_and_sub(a,b):\n",
    "    mysum = a + b\n",
    "    mydiff = a - b\n",
    "    return (mysum, mydiff)\n",
    "    "
   ]
  },
  {
   "cell_type": "code",
   "execution_count": 124,
   "id": "d2567689-f998-40be-bac1-5985aba11c61",
   "metadata": {},
   "outputs": [
    {
     "data": {
      "text/plain": [
       "(35, 5)"
      ]
     },
     "execution_count": 124,
     "metadata": {},
     "output_type": "execute_result"
    }
   ],
   "source": [
    "add_and_sub(20,15)"
   ]
  },
  {
   "cell_type": "code",
   "execution_count": 125,
   "id": "1007d4bb-2bec-4db9-82a5-7151fb4799a8",
   "metadata": {},
   "outputs": [],
   "source": [
    "new_add = add # different names for the same function"
   ]
  },
  {
   "cell_type": "code",
   "execution_count": 133,
   "id": "63decc52-9262-4f73-94df-eeca55f5b723",
   "metadata": {},
   "outputs": [],
   "source": [
    "def modify(mylist): # How it works with immutable objects\n",
    "    mylist[0]*=10"
   ]
  },
  {
   "cell_type": "code",
   "execution_count": 134,
   "id": "e2df91cb-9eea-4185-b001-b6075674a1e3",
   "metadata": {},
   "outputs": [],
   "source": [
    "L = [1,3,5,7,9]"
   ]
  },
  {
   "cell_type": "code",
   "execution_count": 135,
   "id": "d91dd160-9ed5-44fc-965c-aeafa6fe503a",
   "metadata": {},
   "outputs": [],
   "source": [
    "modify(L)"
   ]
  },
  {
   "cell_type": "code",
   "execution_count": 136,
   "id": "abdc825e-4399-4b99-a133-94635fdd102c",
   "metadata": {},
   "outputs": [
    {
     "data": {
      "text/plain": [
       "[10, 3, 5, 7, 9]"
      ]
     },
     "execution_count": 136,
     "metadata": {},
     "output_type": "execute_result"
    }
   ],
   "source": [
    "L"
   ]
  },
  {
   "cell_type": "code",
   "execution_count": 137,
   "id": "8fb49340-abe2-43de-9b2e-21d4a45161fb",
   "metadata": {},
   "outputs": [
    {
     "data": {
      "text/plain": [
       "True"
      ]
     },
     "execution_count": 137,
     "metadata": {},
     "output_type": "execute_result"
    }
   ],
   "source": [
    "# Introduction to Functions: Question 1 \n",
    "def modify(mylist):\n",
    "    mylist[0] *= 10\n",
    "    return(mylist)\n",
    "L = [1, 3, 5, 7, 9]\n",
    "M = modify(L)\n",
    "M is L # same objects"
   ]
  },
  {
   "cell_type": "code",
   "execution_count": 139,
   "id": "ec67e1b0-cd74-40dc-90c3-73f5e6c0b4d4",
   "metadata": {},
   "outputs": [],
   "source": [
    "# Writing Simple Functions --------------------------------------------------------------------------------------------\n",
    "def intersect(s1, s2):\n",
    "    res = []\n",
    "    for x in s1:\n",
    "        if x in s2: \n",
    "            res.append(x)\n",
    "    return res"
   ]
  },
  {
   "cell_type": "code",
   "execution_count": 140,
   "id": "e5a48feb-0c6e-4058-bc8b-b50dafb9e11b",
   "metadata": {},
   "outputs": [
    {
     "data": {
      "text/plain": [
       "[3, 4, 5]"
      ]
     },
     "execution_count": 140,
     "metadata": {},
     "output_type": "execute_result"
    }
   ],
   "source": [
    "intersect([1,2,3,4,5], [3,4,5,6,7])"
   ]
  },
  {
   "cell_type": "code",
   "execution_count": 142,
   "id": "7bbd52cb-431d-475b-86df-e105eddcf5bf",
   "metadata": {},
   "outputs": [
    {
     "data": {
      "text/plain": [
       "'c'"
      ]
     },
     "execution_count": 142,
     "metadata": {},
     "output_type": "execute_result"
    }
   ],
   "source": [
    "import random\n",
    "random.choice([1,2,3,4])\n",
    "random.choice(\"abcde\")"
   ]
  },
  {
   "cell_type": "code",
   "execution_count": 158,
   "id": "0ae5f6d8-1f66-45b1-b913-8d3dc91c41e7",
   "metadata": {},
   "outputs": [],
   "source": [
    "def password(length):\n",
    "    pw = str() # empty string\n",
    "    characters = \"abcdefghijklmnopqrstuvwxyz\" + \"0123456789\"\n",
    "    for i in range(length):\n",
    "        pw= pw + random.choice(characters)\n",
    "    return pw\n",
    "    "
   ]
  },
  {
   "cell_type": "code",
   "execution_count": 160,
   "id": "9c464f62-a1dc-4596-928c-7669824e4e2b",
   "metadata": {},
   "outputs": [
    {
     "data": {
      "text/plain": [
       "'khhu9b371g4ehlkl79q5m1o1dldk0ywo0b2cl1ib1fbymayc8o4oizo58ikkjpc29qnkyejw3e6ncefx4iyj6emq2qmc5xp5o37f'"
      ]
     },
     "execution_count": 160,
     "metadata": {},
     "output_type": "execute_result"
    }
   ],
   "source": [
    "password(100)"
   ]
  },
  {
   "cell_type": "code",
   "execution_count": 162,
   "id": "b7e6d4c0-1820-4cf7-85e2-105e1c12ffce",
   "metadata": {},
   "outputs": [
    {
     "data": {
      "text/plain": [
       "[3]"
      ]
     },
     "execution_count": 162,
     "metadata": {},
     "output_type": "execute_result"
    }
   ],
   "source": [
    "# Writing Simple Functions: Question 1 \n",
    "# Consider the function intersect() defined in the previous video, 1.3.8: Writing Simple Functions. What will intersect([1,2,3], [3,4,5,6,7]) return?\n",
    "intersect([1,2,3], [3,4,5,6,7]) "
   ]
  },
  {
   "cell_type": "code",
   "execution_count": 166,
   "id": "cee0008e-d44f-4a6f-9f4a-8f000a043b4d",
   "metadata": {},
   "outputs": [
    {
     "data": {
      "text/plain": [
       "True"
      ]
     },
     "execution_count": 166,
     "metadata": {},
     "output_type": "execute_result"
    }
   ],
   "source": [
    "# Writing Simple Functions: Question 2 \n",
    "# Can you replace #blank# in the second line so is_vowel becomes a function that takes a letter as input and prints whether a letter is a vowel (in \"aeiouy\")? \n",
    "    \n",
    "def is_vowel(letter):\n",
    "    if letter in \"aeiouy\":#blank#:\n",
    "        return(True)\n",
    "    else:\n",
    "        return(False)\n",
    "is_vowel(\"a\")"
   ]
  },
  {
   "cell_type": "code",
   "execution_count": 169,
   "id": "6bf74d74-40e0-4dae-9bd6-3bd57b7011b2",
   "metadata": {},
   "outputs": [],
   "source": [
    "# Writing Simple Functions: Question 3 \n",
    "# Consider the function call is_vowel(4). Why would this not work?\n",
    "# Answer: not a string"
   ]
  },
  {
   "cell_type": "code",
   "execution_count": 171,
   "id": "d2daf752-bf31-4f30-89a0-46adc197fac9",
   "metadata": {},
   "outputs": [],
   "source": [
    "# Writing Simple Functions: Question 4 \n",
    "      \n",
    "def is_vowel(letter):\n",
    "    if type(letter) == int:\n",
    "        letter = str(letter)\n",
    "    if letter in \"aeiouy\":\n",
    "        return(True)\n",
    "    else:\n",
    "        return(False)"
   ]
  },
  {
   "cell_type": "code",
   "execution_count": 172,
   "id": "2a45e559-5d37-491d-9fdf-73420db9d0c7",
   "metadata": {},
   "outputs": [
    {
     "data": {
      "text/plain": [
       "False"
      ]
     },
     "execution_count": 172,
     "metadata": {},
     "output_type": "execute_result"
    }
   ],
   "source": [
    "# Does this properly accommodate objects of type int for use with is_vowel? For example, will is_vowel(4) produce a correct answer?\n",
    "is_vowel(4)"
   ]
  },
  {
   "cell_type": "code",
   "execution_count": 191,
   "id": "9e5b2d40-e0e1-456e-86d8-ac05256bd33a",
   "metadata": {},
   "outputs": [],
   "source": [
    "# Writing Simple Functions: Question 5 \n",
    "# Can you fill in the #blank# to complete the function as described above? \n",
    "def factorial(n):\n",
    "    if n == 0:\n",
    "        return 1\n",
    "    else:\n",
    "        N = 1\n",
    "        for i in range(1, n+1):\n",
    "            N = N*i #blank#\n",
    "        return(N)\n"
   ]
  },
  {
   "cell_type": "code",
   "execution_count": 194,
   "id": "a85f058e-6004-4b09-ae21-65ac8aaefd80",
   "metadata": {},
   "outputs": [
    {
     "data": {
      "text/plain": [
       "24"
      ]
     },
     "execution_count": 194,
     "metadata": {},
     "output_type": "execute_result"
    }
   ],
   "source": [
    "factorial(4)"
   ]
  },
  {
   "cell_type": "code",
   "execution_count": null,
   "id": "1e55d9d8-0971-4047-b804-82bc01bc0573",
   "metadata": {},
   "outputs": [],
   "source": []
  }
 ],
 "metadata": {
  "kernelspec": {
   "display_name": "Python 3 (ipykernel)",
   "language": "python",
   "name": "python3"
  },
  "language_info": {
   "codemirror_mode": {
    "name": "ipython",
    "version": 3
   },
   "file_extension": ".py",
   "mimetype": "text/x-python",
   "name": "python",
   "nbconvert_exporter": "python",
   "pygments_lexer": "ipython3",
   "version": "3.8.5"
  }
 },
 "nbformat": 4,
 "nbformat_minor": 5
}
